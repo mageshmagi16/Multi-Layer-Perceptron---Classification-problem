{
 "cells": [
  {
   "cell_type": "code",
   "execution_count": 1,
   "id": "1002e261",
   "metadata": {},
   "outputs": [
    {
     "name": "stderr",
     "output_type": "stream",
     "text": [
      "C:\\Users\\mages\\AppData\\Local\\Programs\\Python\\Python311\\Lib\\site-packages\\tqdm\\auto.py:21: TqdmWarning: IProgress not found. Please update jupyter and ipywidgets. See https://ipywidgets.readthedocs.io/en/stable/user_install.html\n",
      "  from .autonotebook import tqdm as notebook_tqdm\n"
     ]
    },
    {
     "name": "stdout",
     "output_type": "stream",
     "text": [
      "                                               email  label\n",
      "0   date wed NUMBER aug NUMBER NUMBER NUMBER NUMB...      0\n",
      "1  martin a posted tassos papadopoulos the greek ...      0\n",
      "2  man threatens explosion in moscow thursday aug...      0\n",
      "3  klez the virus that won t die already the most...      0\n",
      "4   in adding cream to spaghetti carbonara which ...      0\n"
     ]
    }
   ],
   "source": [
    "import kagglehub\n",
    "import pandas as pd\n",
    "import torch\n",
    "import torch.nn as nn\n",
    "import torch.optim as optim\n",
    "from torch.utils.data import Dataset, DataLoader\n",
    "from sklearn.model_selection import train_test_split\n",
    "from sklearn.feature_extraction.text import TfidfVectorizer\n",
    "from sklearn.preprocessing import LabelEncoder\n",
    "\n",
    "\n",
    "path = kagglehub.dataset_download(\"ozlerhakan/spam-or-not-spam-dataset\")\n",
    "\n",
    "\n",
    "df = pd.read_csv(f\"{path}/spam_or_not_spam.csv\")\n",
    "print(df.head())"
   ]
  },
  {
   "cell_type": "code",
   "execution_count": 2,
   "id": "513f891e",
   "metadata": {},
   "outputs": [
    {
     "name": "stderr",
     "output_type": "stream",
     "text": [
      "C:\\Users\\mages\\AppData\\Local\\Programs\\Python\\Python311\\Lib\\site-packages\\sklearn\\utils\\validation.py:605: FutureWarning: is_sparse is deprecated and will be removed in a future version. Check `isinstance(dtype, pd.SparseDtype)` instead.\n",
      "  if is_sparse(pd_dtype):\n",
      "C:\\Users\\mages\\AppData\\Local\\Programs\\Python\\Python311\\Lib\\site-packages\\sklearn\\utils\\validation.py:614: FutureWarning: is_sparse is deprecated and will be removed in a future version. Check `isinstance(dtype, pd.SparseDtype)` instead.\n",
      "  if is_sparse(pd_dtype) or not is_extension_array_dtype(pd_dtype):\n"
     ]
    }
   ],
   "source": [
    "df.dropna(inplace=True)\n",
    "\n",
    "\n",
    "label_encoder = LabelEncoder()\n",
    "df['label'] = label_encoder.fit_transform(df['label'])\n",
    "\n",
    "\n",
    "vectorizer = TfidfVectorizer(max_features=5000)\n",
    "X = vectorizer.fit_transform(df['email']).toarray()\n",
    "y = df['label'].values\n"
   ]
  },
  {
   "cell_type": "code",
   "execution_count": 3,
   "id": "2032ae51",
   "metadata": {},
   "outputs": [],
   "source": [
    "class SpamDataset(Dataset):\n",
    "    def __init__(self, X, y):\n",
    "        self.X = torch.tensor(X, dtype=torch.float32)\n",
    "        self.y = torch.tensor(y, dtype=torch.long)\n",
    "\n",
    "    def __len__(self):\n",
    "        return len(self.y)\n",
    "\n",
    "    def __getitem__(self, idx):\n",
    "        return self.X[idx], self.y[idx]\n",
    "\n",
    "\n",
    "X_train, X_test, y_train, y_test = train_test_split(X, y, test_size=0.2, random_state=42)\n",
    "\n",
    "\n",
    "train_dataset = SpamDataset(X_train, y_train)\n",
    "test_dataset = SpamDataset(X_test, y_test)\n",
    "\n",
    "train_loader = DataLoader(train_dataset, batch_size=32, shuffle=True)\n",
    "test_loader = DataLoader(test_dataset, batch_size=32, shuffle=False)"
   ]
  },
  {
   "cell_type": "code",
   "execution_count": 4,
   "id": "1d96ae36",
   "metadata": {},
   "outputs": [],
   "source": [
    "class MLPModel(nn.Module):\n",
    "    def __init__(self, input_size):\n",
    "        super(MLPModel, self).__init__()\n",
    "        self.fc1 = nn.Linear(input_size, 128)  # First layer\n",
    "        self.relu1 = nn.ReLU()\n",
    "        self.fc2 = nn.Linear(128, 64)  # Second layer\n",
    "        self.relu2 = nn.ReLU()\n",
    "        self.fc3 = nn.Linear(64, 2)  # Output layer (2 classes)\n",
    "        self.softmax = nn.LogSoftmax(dim=1)  # Log softmax for classification\n",
    "\n",
    "    def forward(self, x):\n",
    "        x = self.fc1(x)\n",
    "        x = self.relu1(x)\n",
    "        x = self.fc2(x)\n",
    "        x = self.relu2(x)\n",
    "        x = self.fc3(x)\n",
    "        return self.softmax(x)\n",
    "\n",
    "\n",
    "input_size = X.shape[1]  \n",
    "model = MLPModel(input_size)\n"
   ]
  },
  {
   "cell_type": "code",
   "execution_count": 5,
   "id": "5735b6d0",
   "metadata": {},
   "outputs": [],
   "source": [
    "criterion = nn.NLLLoss()  \n",
    "optimizer = optim.Adam(model.parameters(), lr=0.001) "
   ]
  },
  {
   "cell_type": "code",
   "execution_count": 6,
   "id": "10f48acb",
   "metadata": {},
   "outputs": [
    {
     "name": "stdout",
     "output_type": "stream",
     "text": [
      "Epoch 1/10, Loss: 30.8237\n",
      "Epoch 2/10, Loss: 3.6467\n",
      "Epoch 3/10, Loss: 0.5733\n",
      "Epoch 4/10, Loss: 0.2395\n",
      "Epoch 5/10, Loss: 0.1504\n",
      "Epoch 6/10, Loss: 0.1260\n",
      "Epoch 7/10, Loss: 0.1087\n",
      "Epoch 8/10, Loss: 0.1032\n",
      "Epoch 9/10, Loss: 0.0882\n",
      "Epoch 10/10, Loss: 0.0912\n"
     ]
    }
   ],
   "source": [
    "num_epochs = 10\n",
    "\n",
    "for epoch in range(num_epochs):\n",
    "    model.train()\n",
    "    total_loss = 0\n",
    "    for batch_X, batch_y in train_loader:\n",
    "        optimizer.zero_grad()\n",
    "        outputs = model(batch_X)\n",
    "        loss = criterion(outputs, batch_y)\n",
    "        loss.backward()\n",
    "        optimizer.step()\n",
    "        total_loss += loss.item()\n",
    "    \n",
    "    print(f\"Epoch {epoch+1}/{num_epochs}, Loss: {total_loss:.4f}\")"
   ]
  },
  {
   "cell_type": "code",
   "execution_count": 7,
   "id": "99d943e8",
   "metadata": {},
   "outputs": [
    {
     "name": "stdout",
     "output_type": "stream",
     "text": [
      "Test Accuracy: 99.00%\n"
     ]
    }
   ],
   "source": [
    "model.eval()\n",
    "correct, total = 0, 0\n",
    "\n",
    "with torch.no_grad():  \n",
    "    for batch_X, batch_y in test_loader:\n",
    "        outputs = model(batch_X)\n",
    "        predicted = torch.argmax(outputs, dim=1)\n",
    "        total += batch_y.size(0)\n",
    "        correct += (predicted == batch_y).sum().item()\n",
    "\n",
    "accuracy = 100 * correct / total\n",
    "print(f\"Test Accuracy: {accuracy:.2f}%\")"
   ]
  },
  {
   "cell_type": "code",
   "execution_count": 8,
   "id": "61dccd16",
   "metadata": {},
   "outputs": [],
   "source": [
    "def predict_email(model, email_text, vectorizer):\n",
    "    model.eval()  \n",
    "\n",
    "    # Convert email text to numerical format using the same TF-IDF vectorizer\n",
    "    email_vector = vectorizer.transform([email_text]).toarray()\n",
    "    email_tensor = torch.tensor(email_vector, dtype=torch.float32)\n",
    "\n",
    "    \n",
    "    with torch.no_grad():\n",
    "        output = model(email_tensor)\n",
    "        predicted_label = torch.argmax(output, dim=1).item()\n",
    "\n",
    "    # Convert 0 and 1 into \"spam\" or \"not spam\"\n",
    "    label_mapping = {0: \"not spam\", 1: \"spam\"}\n",
    "    prediction = label_mapping[predicted_label]\n",
    "\n",
    "    return prediction\n"
   ]
  },
  {
   "cell_type": "code",
   "execution_count": 9,
   "id": "3a4b18ee",
   "metadata": {},
   "outputs": [
    {
     "name": "stdout",
     "output_type": "stream",
     "text": [
      "Email: Congratulations! You have won a $1000 Walmart gift card. Click here to claim your prize.\n",
      "Prediction: spam\n",
      "\n",
      "Email: Hey John, can we reschedule our meeting to next Monday?\n",
      "Prediction: not spam\n",
      "\n",
      "Email: Hurry up! Your Netflix account has been suspended due to suspicious activity. Click here to restore access.\n",
      "Prediction: spam\n",
      "\n"
     ]
    }
   ],
   "source": [
    "email1 = \"Congratulations! You have won a $1000 Walmart gift card. Click here to claim your prize.\"\n",
    "email2 = \"Hey John, can we reschedule our meeting to next Monday?\"\n",
    "email3 = \"Hurry up! Your Netflix account has been suspended due to suspicious activity. Click here to restore access.\"\n",
    "\n",
    "print(f\"Email: {email1}\\nPrediction: {predict_email(model, email1, vectorizer)}\\n\")\n",
    "print(f\"Email: {email2}\\nPrediction: {predict_email(model, email2, vectorizer)}\\n\")\n",
    "print(f\"Email: {email3}\\nPrediction: {predict_email(model, email3, vectorizer)}\\n\")\n"
   ]
  }
 ],
 "metadata": {
  "kernelspec": {
   "display_name": "Python 3 (ipykernel)",
   "language": "python",
   "name": "python3"
  },
  "language_info": {
   "codemirror_mode": {
    "name": "ipython",
    "version": 3
   },
   "file_extension": ".py",
   "mimetype": "text/x-python",
   "name": "python",
   "nbconvert_exporter": "python",
   "pygments_lexer": "ipython3",
   "version": "3.11.1"
  }
 },
 "nbformat": 4,
 "nbformat_minor": 5
}
